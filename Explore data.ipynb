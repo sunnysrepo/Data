{
 "cells": [
  {
   "cell_type": "code",
   "execution_count": null,
   "metadata": {},
   "outputs": [],
   "source": [
    "%%python\n",
    "import tkinter as tk\n",
    "from tkinter import filedialog\n",
    "from tkinter import messagebox\n",
    "import os, time, sys, glob, re, pandas as pd, numpy as np\n",
    "from shutil import copyfile\n",
    "\n",
    "window = tk.Tk()\n",
    "window.withdraw()\n",
    "# file_path = filedialog.askdirectory(title='Select folder where new reports are located')\n",
    "webship_file_path = filedialog.askopenfilename(title=\"Select WebShip csv file\")\n",
    "ws_data = pd.read_csv(webship_file_path,encoding = \"ISO-8859-1\")\n",
    "# data = pd.read_excel()\n",
    "print(ws_data)"
   ]
  },
  {
   "cell_type": "code",
   "execution_count": null,
   "metadata": {},
   "outputs": [],
   "source": [
    "print(\"SdfSDddF\")"
   ]
  },
  {
   "cell_type": "code",
   "execution_count": null,
   "metadata": {},
   "outputs": [],
   "source": []
  },
  {
   "cell_type": "code",
   "execution_count": null,
   "metadata": {},
   "outputs": [],
   "source": []
  }
 ],
 "metadata": {
  "kernelspec": {
   "display_name": "Python 3.7.5 64-bit",
   "language": "python",
   "name": "python37564bitdad0b9e0c6f746e3b5055a5b43b61fd5"
  },
  "language_info": {
   "codemirror_mode": {
    "name": "ipython",
    "version": 3
   },
   "file_extension": ".py",
   "mimetype": "text/x-python",
   "name": "python",
   "nbconvert_exporter": "python",
   "pygments_lexer": "ipython3",
   "version": "3.7.5"
  }
 },
 "nbformat": 4,
 "nbformat_minor": 2
}
