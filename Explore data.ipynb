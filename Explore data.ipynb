{
 "cells": [
  {
   "cell_type": "code",
   "execution_count": null,
   "metadata": {
    "scrolled": false
   },
   "outputs": [],
   "source": [
    "import tkinter as tk\n",
    "from tkinter import filedialog\n",
    "from tkinter import messagebox\n",
    "import os, time, sys, glob, re, pandas as pd, numpy as np\n",
    "from shutil import copyfile\n",
    "\n",
    "window = tk.Tk()\n",
    "window.withdraw()\n",
    "# folder_selection = filedialog.askdirectory(title='Select folder where new reports are located')\n",
    "file_full_path = filedialog.askopenfilename(title=\"Select csv/xlsx/xls file\",filetypes=[(\"default\",\"*.xls*\"),(\"CSVs\",\"*.csv\")])\n",
    "file_name = os.path.basename(file_full_path)\n",
    "file, ext = os.path.splitext(file_name)\n",
    "\n",
    "if ext == \".csv\":\n",
    "    df = pd.read_csv(file_full_path, encoding = \"ISO-8859-1\")\n",
    "elif ext in (\".xlsx\",\".xls\"):\n",
    "    df = pd.read_excel(file_full_path)\n",
    "else:\n",
    "    print(\"Unknown file type\")\n",
    "print(file_name)\n",
    "display(df)"
   ]
  },
  {
   "cell_type": "code",
   "execution_count": null,
   "metadata": {},
   "outputs": [],
   "source": [
    "df.describe()\n"
   ]
  },
  {
   "cell_type": "code",
   "execution_count": null,
   "metadata": {},
   "outputs": [],
   "source": [
    "df.info()"
   ]
  },
  {
   "cell_type": "code",
   "execution_count": null,
   "metadata": {},
   "outputs": [],
   "source": []
  }
 ],
 "metadata": {
  "kernelspec": {
   "display_name": "Python 3.7.5 64-bit",
   "language": "python",
   "name": "python37564bitdad0b9e0c6f746e3b5055a5b43b61fd5"
  },
  "language_info": {
   "codemirror_mode": {
    "name": "ipython",
    "version": 3
   },
   "file_extension": ".py",
   "mimetype": "text/x-python",
   "name": "python",
   "nbconvert_exporter": "python",
   "pygments_lexer": "ipython3",
   "version": "3.7.5"
  }
 },
 "nbformat": 4,
 "nbformat_minor": 2
}
