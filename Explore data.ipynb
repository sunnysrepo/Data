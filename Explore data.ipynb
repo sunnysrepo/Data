{
 "cells": [
  {
   "cell_type": "code",
   "execution_count": 2,
   "metadata": {},
   "outputs": [
    {
     "name": "stdout",
     "output_type": "stream",
     "text": [
      "                created_at  ...                                            options\r\n",
      "0     2019-10-25T17:52:47Z  ...  {\"currency\":\"USD\",\"payment\":{\"type\":\"SENDER\"},...\r\n",
      "1     2019-10-25T18:02:13Z  ...  {\"currency\":\"USD\",\"payment\":{\"type\":\"SENDER\"},...\r\n",
      "2     2019-10-25T18:05:30Z  ...  {\"currency\":\"USD\",\"payment\":{\"type\":\"SENDER\"},...\r\n",
      "3     2019-10-25T18:07:36Z  ...  {\"currency\":\"USD\",\"payment\":{\"type\":\"SENDER\"},...\r\n",
      "4     2019-10-25T18:09:50Z  ...  {\"currency\":\"USD\",\"payment\":{\"type\":\"SENDER\"},...\r\n",
      "...                    ...  ...                                                ...\r\n",
      "4835  2019-11-12T18:37:11Z  ...  {\"currency\":\"USD\",\"payment\":{\"type\":\"SENDER\"},...\r\n",
      "4836  2019-11-12T18:37:13Z  ...  {\"currency\":\"USD\",\"payment\":{\"type\":\"SENDER\"},...\r\n",
      "4837  2019-11-12T18:41:41Z  ...  {\"currency\":\"USD\",\"payment\":{\"type\":\"SENDER\"},...\r\n",
      "4838  2019-11-12T18:41:49Z  ...  {\"currency\":\"USD\",\"payment\":{\"type\":\"SENDER\"},...\r\n",
      "4839  2019-11-12T18:41:51Z  ...  {\"currency\":\"USD\",\"payment\":{\"type\":\"SENDER\"},...\r\n",
      "\r\n",
      "[4840 rows x 43 columns]\r\n"
     ]
    }
   ],
   "source": [
    "%%python\n",
    "import tkinter as tk\n",
    "from tkinter import filedialog\n",
    "from tkinter import messagebox\n",
    "import os, time, sys, glob, re, pandas as pd, numpy as np\n",
    "from shutil import copyfile\n",
    "\n",
    "window = tk.Tk()\n",
    "window.withdraw()\n",
    "# file_path = filedialog.askdirectory(title='Select folder where new reports are located')\n",
    "webship_file_path = filedialog.askopenfilename(title=\"Select WebShip csv file\")\n",
    "ws_data = pd.read_csv(webship_file_path,encoding = \"ISO-8859-1\")\n",
    "# data = pd.read_excel()\n",
    "print(ws_data)"
   ]
  },
  {
   "cell_type": "code",
   "execution_count": null,
   "metadata": {},
   "outputs": [],
   "source": [
    "print(\"SdfSDF\")"
   ]
  },
  {
   "cell_type": "code",
   "execution_count": null,
   "metadata": {},
   "outputs": [],
   "source": []
  },
  {
   "cell_type": "code",
   "execution_count": null,
   "metadata": {},
   "outputs": [],
   "source": []
  }
 ],
 "metadata": {
  "kernelspec": {
   "display_name": "Python 3.7.5 64-bit",
   "language": "python",
   "name": "python37564bitdad0b9e0c6f746e3b5055a5b43b61fd5"
  },
  "language_info": {
   "codemirror_mode": {
    "name": "ipython",
    "version": 3
   },
   "file_extension": ".py",
   "mimetype": "text/x-python",
   "name": "python",
   "nbconvert_exporter": "python",
   "pygments_lexer": "ipython3",
   "version": "3.7.5"
  }
 },
 "nbformat": 4,
 "nbformat_minor": 2
}
