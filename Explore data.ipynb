{
 "cells": [
  {
   "cell_type": "code",
   "execution_count": null,
   "metadata": {
    "scrolled": false
   },
   "outputs": [],
   "source": [
    "import tkinter as tk\n",
    "from tkinter import filedialog\n",
    "from tkinter import messagebox\n",
    "import os, time, sys, glob, re, pandas as pd, numpy as np\n",
    "from shutil import copyfile\n",
    "pd.set_option('display.max_columns', None)\n",
    "window = tk.Tk()\n",
    "window.withdraw()\n",
    "# folder_selection = filedialog.askdirectory(title='Select folder where new reports are located')\n",
    "file_full_path = filedialog.askopenfilename(title=\"Select csv/xlsx/xls file\",filetypes=[(\"default\",\"*.xls*\"),(\"CSVs\",\"*.csv\")])\n",
    "file_name = os.path.basename(file_full_path)\n",
    "file, ext = os.path.splitext(file_name)\n",
    "\n",
    "if ext == \".csv\":\n",
    "    %time df = pd.read_csv(file_full_path, encoding = \"ISO-8859-1\")\n",
    "elif ext in (\".xlsx\",\".xls\"):\n",
    "    %time df = pd.read_excel(file_full_path)\n",
    "else:\n",
    "    print(\"Unknown file type\")\n",
    "\n",
    "print(\"file size:\",str(round(os.path.getsize(file_full_path)/(1024*1024),2))+\"MB |\",\"file name:\",file_name)\n",
    "\n",
    "display(df)"
   ]
  },
  {
   "cell_type": "code",
   "execution_count": null,
   "metadata": {},
   "outputs": [],
   "source": [
    "df.describe()\n",
    "df.info()"
   ]
  },
  {
   "cell_type": "code",
   "execution_count": null,
   "metadata": {},
   "outputs": [],
   "source": []
  },
  {
   "cell_type": "code",
   "execution_count": null,
   "metadata": {},
   "outputs": [],
   "source": [
    "#changing column data type\n",
    "df['zone'] = df['zone'].astype(str)\n",
    "df.dtypes.apply(lambda x: x.name).to_dict()\n",
    "# display(df)"
   ]
  },
  {
   "cell_type": "code",
   "execution_count": null,
   "metadata": {},
   "outputs": [],
   "source": [
    "#convert to date\n",
    "df['partner_commission_paid_date'] = pd.to_datetime(df['partner_commission_paid_date'], format='%Y%m%d.0',errors='coerce')\n",
    "display(df)"
   ]
  },
  {
   "cell_type": "code",
   "execution_count": null,
   "metadata": {},
   "outputs": [],
   "source": [
    "#quickly exporting to excel\n",
    "# writer = pd.ExcelWriter(filename, engine='xlsxwriter')\n",
    "# df.to_excel(writer, index=False)\n",
    "# writer.save()\n"
   ]
  }
 ],
 "metadata": {
  "kernelspec": {
   "display_name": "Python 3",
   "language": "python",
   "name": "python3"
  },
  "language_info": {
   "codemirror_mode": {
    "name": "ipython",
    "version": 3
   },
   "file_extension": ".py",
   "mimetype": "text/x-python",
   "name": "python",
   "nbconvert_exporter": "python",
   "pygments_lexer": "ipython3",
   "version": "3.6.9"
  }
 },
 "nbformat": 4,
 "nbformat_minor": 2
}
